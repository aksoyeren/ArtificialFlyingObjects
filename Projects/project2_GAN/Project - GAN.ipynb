{
 "cells": [
  {
   "cell_type": "markdown",
   "metadata": {},
   "source": [
    "<center><h1 style=\"font-size:40px;\">Project 2<br> GANs\n",
    "</h1></center>"
   ]
  },
  {
   "cell_type": "markdown",
   "metadata": {},
   "source": [
    "This project will develop an **Generative adversarial network (GAN)**. The task is to use an unsupervised approach to generate realistic images, To achieve this GAN uses two networks: generator and discriminator.\n",
    "\n",
    "The generator tries to fool the discriminator and create realistic images. The discriminators job is to figure out if the image is real or fake. A GAN network is very suitable when there is no clear pattern or we want to \"create\" new data samples. A good generator can create new and realistic images from images.\n",
    "\n",
    "This can according to google crash course summarise as:\n",
    "* The generator learns to generate plausible data. The generated instances become negative training examples for the discriminator.\n",
    "* The discriminator learns to distinguish the generator's fake data from real data. The discriminator penalizes the generator for producing implausible results.\n",
    "\n",
    "The setup is further visualised below for the generator and discriminator provided from [google crash course](https://developers.google.com/machine-learning/gan/gan_structure):\n",
    "<center><img src=\"../../data/images/gan_diagram.svg\" width=\"600\"></center\n",
    "    \n",
    "All **tasks** include **TODO's** thare are expected to be done before the deadline. The highlighted **Question's** should be answered in the report. Keep the answers separated so it is easy to read for the grading. Some sections include asserts or an expected result to give a and expected results are given. Some sections does not contain any **TODO's** but is good to understand them. \n",
    "\n",
    "For the **report** we have prepared an *Report.ipynb* notebook. The report should act as a summary of your findings and motivate your choice of approach. A better motivation show your understanding of the lab. Dont forget to include all **parts** in the report!\n",
    "\n",
    "\n",
    "Good luck!\n",
    "\n",
    "---"
   ]
  },
  {
   "cell_type": "markdown",
   "metadata": {},
   "source": [
    "# Task\n",
    "\n",
    "**TODO:** Implement a genenerator architecture\n",
    "\n",
    "**TODO:** Implement a discriminator architecture\n",
    "\n",
    "**TODO:** Train the GAN network so the discriminator cant distinguish the generator's fake images from real images.\n",
    "\n",
    "**OPTIONAL:** Train a GAN network to take a grayscale image and apply colors.\n",
    "\n",
    "**TODO:** Select a good metric to evaluate the models performance and argue why the metric give a good overview of the performance.\n",
    "\n",
    "**Question:** Explain in the report what you did and why. Present a pipeline of the code. \n",
    "\n",
    "--- \n",
    "\n",
    "**Note:** The current image resolution is set to 32x32 (i.e. IMAGE_WIDTH and IMAGE_HEIGHT) in config.py. \n",
    "This way initial experiements can run faster. Once you implement the inital version of the network, please set the resolution values back to 128x128. Experimental results should be provided for this high resolution images.  \n",
    "\n",
    "**Hint:** As a generator model, you can use the segmentation model implemented in lab03. Do not forget to adapt the input and output shapes of the generator model in this case.\n",
    "\n",
    "\n"
   ]
  },
  {
   "cell_type": "markdown",
   "metadata": {},
   "source": [
    "# Import packages"
   ]
  },
  {
   "cell_type": "code",
   "execution_count": 1,
   "metadata": {},
   "outputs": [],
   "source": [
    "%load_ext autoreload\n",
    "%autoreload 2\n",
    "# Hacky solution to ac>cess the global utils package\n",
    "import sys,os\n",
    "sys.path.append(os.path.dirname(os.path.realpath('..')))"
   ]
  },
  {
   "cell_type": "code",
   "execution_count": 2,
   "metadata": {},
   "outputs": [],
   "source": [
    "from config import LabConfig\n",
    "import torchmetrics\n",
    "import transforms as T\n",
    "import torch\n",
    "from utils.plot import GAN\n",
    "import torchvision.datasets as dset\n",
    "import torchvision.transforms as transforms"
   ]
  },
  {
   "cell_type": "markdown",
   "metadata": {},
   "source": [
    "## Load config\n",
    "Note that this lab does not support for fineGrained dataset."
   ]
  },
  {
   "cell_type": "code",
   "execution_count": 3,
   "metadata": {
    "tags": []
   },
   "outputs": [
    {
     "data": {
      "text/plain": [
       "{'training_img_dir': '../../data/GAN',\n",
       " 'SEED': 420,\n",
       " 'GPU': 0,\n",
       " 'IMAGE_WIDTH': 128,\n",
       " 'IMAGE_HEIGHT': 128,\n",
       " 'IMAGE_CHANNEL': 3,\n",
       " 'NUM_WORKERS': 4,\n",
       " 'BATCH_SIZE': 32,\n",
       " 'TENSORBORD_DIR': 'logs/'}"
      ]
     },
     "execution_count": 3,
     "metadata": {},
     "output_type": "execute_result"
    }
   ],
   "source": [
    "cfg = LabConfig()\n",
    "cfg.todict()"
   ]
  },
  {
   "cell_type": "markdown",
   "metadata": {},
   "source": [
    "# Dataset\n",
    "First load the dataloaders for three datasets; train, validation and test. Feel free to test different augmentations, more can be found at [pytorch docs](https://pytorch.org/vision/stable/transforms.html)\n",
    "\n",
    "The dataset consist of images defined as real images. The fake images are created with the generator. For training we can use 50%/50% of real and fake images to train the discriminator. In other words, every other image is a generated (fake) image from the generator. Feel free to experiment what type of input to use for the generator to create a fake image. \n",
    "\n",
    "**Example:** The generator should **NOT** take a real image as input but could take a grayscale image if the task is to color images."
   ]
  },
  {
   "cell_type": "markdown",
   "metadata": {},
   "source": [
    "## Augmentation\n",
    "To ensure that each image have the same shape we pad the dataset. It is possible to resize the images but then the bounding boxes also have to be transformed to correct shape which is not covered in this project! "
   ]
  },
  {
   "cell_type": "code",
   "execution_count": 4,
   "metadata": {},
   "outputs": [],
   "source": [
    "train_transform = transforms.Compose([\n",
    "        transforms.Resize((cfg.IMAGE_HEIGHT, cfg.IMAGE_WIDTH)),\n",
    "        transforms.CenterCrop((cfg.IMAGE_HEIGHT, cfg.IMAGE_WIDTH)),\n",
    "        transforms.ToTensor(),\n",
    "    ])\n",
    "\n",
    "train_transform_grayscale = transforms.Compose([\n",
    "        transforms.Resize((cfg.IMAGE_HEIGHT, cfg.IMAGE_WIDTH)),\n",
    "        transforms.CenterCrop((cfg.IMAGE_HEIGHT, cfg.IMAGE_WIDTH)),\n",
    "        transforms.Grayscale(num_output_channels=1),\n",
    "        transforms.ToTensor()\n",
    "    ])"
   ]
  },
  {
   "cell_type": "markdown",
   "metadata": {},
   "source": [
    "## Dataloader"
   ]
  },
  {
   "cell_type": "code",
   "execution_count": 5,
   "metadata": {},
   "outputs": [],
   "source": [
    "# Create the dataloader\n",
    "dataloader = torch.utils.data.DataLoader(\n",
    "    dset.ImageFolder(\n",
    "        root=cfg.training_img_dir,\n",
    "        transform=train_transform\n",
    "    ), \n",
    "    batch_size=cfg.BATCH_SIZE,\n",
    "    shuffle=True, \n",
    "    num_workers=cfg.NUM_WORKERS\n",
    ")\n",
    "\n",
    "# Create the dataloader\n",
    "dataloader_grayscale = torch.utils.data.DataLoader(\n",
    "    dset.ImageFolder(\n",
    "        root=cfg.training_img_dir,\n",
    "        transform=train_transform_grayscale\n",
    "    ), \n",
    "    batch_size=cfg.BATCH_SIZE,\n",
    "    shuffle=True, \n",
    "    num_workers=cfg.NUM_WORKERS\n",
    ")"
   ]
  },
  {
   "cell_type": "markdown",
   "metadata": {},
   "source": [
    "## Visualise data\n",
    "To get an idea of the dataset we will first plot the data. This is very important, especially if we perform data augmentation. If the implementation is wrong an qualitative estimation will with a great probability tell if something is wrong."
   ]
  },
  {
   "cell_type": "code",
   "execution_count": 6,
   "metadata": {},
   "outputs": [
    {
     "data": {
      "image/png": "[encoded data removed]",
      "text/plain": [
       "<Figure size 720x100.8 with 10 Axes>"
      ]
     },
     "metadata": {},
     "output_type": "display_data"
    }
   ],
   "source": [
    "t_x, t_y = next(iter(dataloader))\n",
    "GAN.data(t_x, nrows=1)"
   ]
  },
  {
   "cell_type": "markdown",
   "metadata": {},
   "source": [
    "Below is the same information but in grayscale. **NOTE:** The cmap for GAN.data is not gray and therefore it show up as green instead of gray. "
   ]
  },
  {
   "cell_type": "code",
   "execution_count": 7,
   "metadata": {},
   "outputs": [
    {
     "data": {
      "image/png": "[encoded data removed]",
      "text/plain": [
       "<Figure size 720x100.8 with 10 Axes>"
      ]
     },
     "metadata": {},
     "output_type": "display_data"
    }
   ],
   "source": [
    "t_x, t_y = next(iter(dataloader_grayscale))\n",
    "GAN.data(t_x, nrows=1)"
   ]
  },
  {
   "cell_type": "markdown",
   "metadata": {},
   "source": [
    "# Implementation\n",
    "\n",
    "---\n",
    "\n",
    "**HINT:** Train discriminator on real images $D(x)$, then train generator $D(G(z))$ where z is a distribution or image. "
   ]
  },
  {
   "cell_type": "code",
   "execution_count": null,
   "metadata": {},
   "outputs": [],
   "source": []
  }
 ],
 "metadata": {
  "interpreter": {
   "hash": "4ccf88e37874d44b4dfe33c31e1bb4a10ca4e414e0a68744582aebd290f71bcd"
  },
  "kernelspec": {
   "display_name": "Python 3 (ipykernel)",
   "language": "python",
   "name": "python3"
  },
  "language_info": {
   "codemirror_mode": {
    "name": "ipython",
    "version": 3
   },
   "file_extension": ".py",
   "mimetype": "text/x-python",
   "name": "python",
   "nbconvert_exporter": "python",
   "pygments_lexer": "ipython3",
   "version": "3.8.8"
  }
 },
 "nbformat": 4,
 "nbformat_minor": 4
}
