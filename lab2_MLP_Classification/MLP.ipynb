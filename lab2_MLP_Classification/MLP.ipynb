{
 "cells": [
  {
   "cell_type": "markdown",
   "metadata": {},
   "source": [
    "### Multi-layer perceptrons for classification and regression problems."
   ]
  },
  {
   "cell_type": "markdown",
   "metadata": {},
   "source": [
    "<center><h1 style=\"font-size:40px;\">Classification</h1></center>"
   ]
  },
  {
   "cell_type": "markdown",
   "metadata": {},
   "source": [
    "Welcome to the second lab in the Deep learning course! In this lab we will continue to take a look at four parts for MLP classification;\n",
    "* Introduction for setup and train an MLP\n",
    "* Impact of overfitting in validation performance \n",
    "* Avoid overfitting for a regression problem\n",
    "* Model selection for classification\n",
    "\n",
    "\n",
    "\n",
    "The lab includes different datasets, binary and multiple classification problems, and function approximation problems. \n",
    "The first part of the lab uses three different synthetic classification problems. They are all 2D binary classification problems that allow for easy visual inspection of the other classes and the network decision boundary. The datasets are defined as *syn1, syn2*, and *syn3*. These datasets are generated \"on the fly\" each time and are sampled from normal distributions. Note that as the data is sampled from a distribution, the data will vary for each time the data is generated it will be slightly different.\n",
    "\n",
    "All tasks include **TODO's** these are expected to be done before the deadline for this lab. The labs also include **Question**, which should be answered and included in the report. The lab gives a hand to ensure correct answer with a few asserts or the expected results. Some sections do not contain any **TODO's** but are good to understand.\n",
    "\n",
    "Good luck!\n",
    "\n",
    "---"
   ]
  },
  {
   "cell_type": "code",
   "execution_count": 1,
   "metadata": {},
   "outputs": [],
   "source": [
    "import torch\n",
    "import numpy as np\n",
    "import matplotlib.pyplot as plt"
   ]
  },
  {
   "cell_type": "code",
   "execution_count": 2,
   "metadata": {},
   "outputs": [],
   "source": [
    "class MLPData:\n",
    "    \"\"\"\n",
    "    This class will manage all the dataset related functions for this lab.\n",
    "    Please take the time do go through the code and try to understand how each point is generated\n",
    "    \"\"\"\n",
    "    @staticmethod\n",
    "    def syn1(N):\n",
    "        \"\"\"data(samples, features)\n",
    "\n",
    "        :param N: Number of DataPoints\n",
    "\n",
    "        \"\"\"\n",
    "        data = np.empty(shape=(N,2), dtype = np.float32)  \n",
    "        tar = np.empty(shape=(N,), dtype = np.float32) \n",
    "        N1 = int(N/2)\n",
    "\n",
    "        data[:N1,0] = 4 + np.random.normal(loc=.0, scale=1., size=(N1))\n",
    "        data[N1:,0] = -4 + np.random.normal(loc=.0, scale=1., size=(N-N1))\n",
    "        data[:,1] = 10*np.random.normal(loc=.0, scale=1., size=(N))\n",
    "\n",
    "\n",
    "        data = data / data.std(axis=0)\n",
    "\n",
    "        # Target\n",
    "        tar[:N1] = np.ones(shape=(N1,))\n",
    "        tar[N1:] = np.zeros(shape=(N-N1,))\n",
    "\n",
    "        # Rotation\n",
    "        theta = np.radians(30)\n",
    "        c, s = np.cos(theta), np.sin(theta)\n",
    "        R = np.array([[c,-s],[s,c]]) # rotation matrix\n",
    "        data = np.dot(data,R) \n",
    "\n",
    "        return data,tar\n",
    "    \n",
    "    @staticmethod\n",
    "    def syn2(N):\n",
    "        \"\"\"data(samples, features)\n",
    "\n",
    "        :param N: \n",
    "\n",
    "        \"\"\"\n",
    "\n",
    "        data = np.empty(shape=(N,2), dtype = np.float32)  \n",
    "        tar = np.empty(shape=(N,), dtype = np.float32) \n",
    "        N1 = int(N/2)\n",
    "\n",
    "        # Positive samples\n",
    "        data[:N1,:] = 0.8 + np.random.normal(loc=.0, scale=1., size=(N1,2))\n",
    "        # Negative samples \n",
    "        data[N1:,:] = -.8 + np.random.normal(loc=.0, scale=1., size=(N-N1,2))\n",
    "\n",
    "\n",
    "        # Target\n",
    "        tar[:N1] = np.ones(shape=(N1,))\n",
    "        tar[N1:] = np.zeros(shape=(N-N1,))\n",
    "\n",
    "        return data,tar\n",
    "\n",
    "    @staticmethod\n",
    "    def syn3(N):\n",
    "        \"\"\"data(samples, features)\n",
    "\n",
    "        :param N: \n",
    "\n",
    "        \"\"\"\n",
    "        data = np.empty(shape=(N,2), dtype = np.float32)  \n",
    "        tar = np.empty(shape=(N,), dtype = np.float32) \n",
    "        N1 = int(2*N/3)\n",
    "\n",
    "        # disk\n",
    "        teta_d = np.random.uniform(0, 2*np.pi, N1)\n",
    "        inner, outer = 2, 5\n",
    "        r2 = np.sqrt(np.random.uniform(inner**2, outer**2, N1))\n",
    "        data[:N1,0],data[:N1,1] = r2*np.cos(teta_d), r2*np.sin(teta_d)\n",
    "\n",
    "        #circle\n",
    "        teta_c = np.random.uniform(0, 2*np.pi, N-N1)\n",
    "        inner, outer = 0, 3\n",
    "        r2 = np.sqrt(np.random.uniform(inner**2, outer**2, N-N1))\n",
    "        data[N1:,0],data[N1:,1] = r2*np.cos(teta_c), r2*np.sin(teta_c)\n",
    "\n",
    "        # Normalization\n",
    "        #data = data - data.mean(axis=0)/data.std(axis=0)\n",
    "\n",
    "        tar[:N1] = np.ones(shape=(N1,))\n",
    "        tar[N1:] = np.zeros(shape=(N-N1,))\n",
    "\n",
    "        return data, tar\n",
    "    \n",
    "    @staticmethod\n",
    "    def spiral(spiral_path):\n",
    "        \"\"\"\n",
    "\n",
    "        :param spiral_path: \n",
    "\n",
    "        \"\"\"\n",
    "        tmp = np.loadtxt(spiral_path)\n",
    "        data, tar = tmp[:, :2], tmp[:, 2]\n",
    "\n",
    "        return data, tar\n",
    "    \n",
    "    @staticmethod\n",
    "    def regr1(N, v=0):\n",
    "        \"\"\"data(samples, features)\n",
    "\n",
    "        :param N: param v:  (Default value = 0)\n",
    "        :param v: Default value = 0)\n",
    "\n",
    "        \"\"\"\n",
    "        data = np.empty(shape=(N,2), dtype = np.float64)  \n",
    "\n",
    "        uni = lambda n : np.random.uniform(0,1,n)\n",
    "        norm = lambda n : np.random.normal(0,1,n)\n",
    "        noise =  lambda  n : np.random.normal(0,1,n)\n",
    "        data[:,0] = norm(N)\n",
    "        data[:,1] = uni(N)\n",
    "            \n",
    "\n",
    "        tar =   10*data[:,0] + np.sin(20*np.pi * data[:,1])\n",
    "        std_signal = np.std(tar)\n",
    "        tar = tar + v * std_signal * noise(N)\n",
    "\n",
    "        return data, tar\n"
   ]
  },
  {
   "cell_type": "markdown",
   "metadata": {},
   "source": [
    "Do not forget to instanciate an object of the above class for you to be able to generate dataset on the fly!"
   ]
  },
  {
   "cell_type": "code",
   "execution_count": 3,
   "metadata": {},
   "outputs": [],
   "source": [
    "datasets = MLPData()"
   ]
  },
  {
   "cell_type": "markdown",
   "metadata": {},
   "source": [
    "Let's see how each dataset looks like! "
   ]
  },
  {
   "cell_type": "code",
   "execution_count": 4,
   "metadata": {},
   "outputs": [],
   "source": [
    "def data_distribution(imgs, shape=(2,2)):\n",
    "    \"\"\"Plot scatter distribution for a list of images.\n",
    "    \"\"\"\n",
    "    f, axs = plt.subplots(*shape, figsize=(10,10))\n",
    "    axs = axs.flatten()\n",
    "    \n",
    "    if isinstance(imgs,list):\n",
    "        for idx, ((d,t), ax) in enumerate(zip(imgs, axs)):\n",
    "            ax.scatter(d[:,0],d[:,1], c=t)\n",
    "            ax.set_title(f\"Plot number: {idx}\")\n",
    "    elif isinstance(imgs,dict):\n",
    "        for (key, (d,t)), ax in zip(imgs.items(), axs):\n",
    "            ax.scatter(d[:,0],d[:,1], c=t)\n",
    "            ax.set_title(key)\n",
    "    plt.show()"
   ]
  },
  {
   "cell_type": "code",
   "execution_count": 5,
   "metadata": {},
   "outputs": [
    {
     "data": {
      "image/png": "[encoded data removed]",
      "text/plain": [
       "<Figure size 1000x1000 with 4 Axes>"
      ]
     },
     "metadata": {},
     "output_type": "display_data"
    }
   ],
   "source": [
    "data_distribution({\n",
    "    \"Syn1\":MLPData.syn1(100),\n",
    "    \"Syn2\":MLPData.syn2(100),\n",
    "    \"Syn3\":MLPData.syn3(100),\n",
    "    \"Spiral\":MLPData.spiral('../data/lab2/spiral.dat'), #the dataset spiral is saved on a file. You can actually open it to check what's inside. If you had to guess what does each column represent?\n",
    "})"
   ]
  },
  {
   "cell_type": "markdown",
   "metadata": {},
   "source": [
    "Let's define a very easy and straight forward model. It consists of only two Linear layers: The input layer and the output layer.\n",
    "You need to fill in the corresponding ```ìn_dimension``` and ```out_dimension``` when instancianting the class. "
   ]
  },
  {
   "cell_type": "code",
   "execution_count": 6,
   "metadata": {},
   "outputs": [],
   "source": [
    "class NeuralNet(torch.nn.Module):\n",
    "    def __init__(self, \n",
    "                in_dimension=None,         \n",
    "                hidden_nodes=1,                     \n",
    "                out_dimension=None,\n",
    "            ):\n",
    "        super(NeuralNet, self).__init__()\n",
    "        self.fc1 = torch.nn.Linear(in_dimension, hidden_nodes)\n",
    "        self.relu = torch.nn.Tanh()\n",
    "        self.fc2 = torch.nn.Linear(hidden_nodes, out_dimension)\n",
    "        \n",
    "        \n",
    "\n",
    "\n",
    "    def forward(self, x):\n",
    "        hidden = self.fc1(x)\n",
    "        relu = self.relu(hidden)\n",
    "        output = self.fc2(relu)\n",
    "        \n",
    "        return torch.sigmoid(output)\n",
    "    \n",
    "    def predict(self,x):\n",
    "        pred = self.forward(x)\n",
    "        ans = []\n",
    "        #Pick the class with maximum weight\n",
    "        for t in pred:\n",
    "            if t>0.5:\n",
    "                ans.append(1)\n",
    "            else:\n",
    "                ans.append(0)\n",
    "        return torch.tensor(ans)"
   ]
  },
  {
   "cell_type": "markdown",
   "metadata": {},
   "source": [
    "We also need to transform the output each dataset coming from ```MLPData``` into a proper ```Pytorch Dataset```."
   ]
  },
  {
   "cell_type": "markdown",
   "metadata": {},
   "source": [
    "We will need to import extra functions to help us with that. \n",
    "You can find the corresponding documentation [here](https://pytorch.org/docs/stable/data.html#torch.utils.data.TensorDataset) and [here](https://pytorch.org/docs/stable/data.html?highlight=dataloader#torch.utils.data.DataLoader)"
   ]
  },
  {
   "cell_type": "code",
   "execution_count": 7,
   "metadata": {},
   "outputs": [],
   "source": [
    "from torch.utils.data import TensorDataset, DataLoader"
   ]
  },
  {
   "cell_type": "markdown",
   "metadata": {},
   "source": [
    "Ok let's try to create a ```Pytorch Dataset``` for syn1. You can do the same for the other datasets we are going to use throughout this lab."
   ]
  },
  {
   "cell_type": "code",
   "execution_count": 8,
   "metadata": {},
   "outputs": [],
   "source": [
    "x,y = datasets.syn1(100) #let's start with 100 points"
   ]
  },
  {
   "cell_type": "markdown",
   "metadata": {},
   "source": [
    "The main issue is that ```datasets.syn1(N)``` returns two numpy arrays: one for the data itself, and another for the corresponding labels. But when we train a model in ```Pytorch``` we need to think in terms of tensors (the roughly equivalent of numpy in the ```Pytorch``` world)!"
   ]
  },
  {
   "cell_type": "code",
   "execution_count": 9,
   "metadata": {},
   "outputs": [],
   "source": [
    "x = torch.Tensor(x) #simply convert each array to a Tensor"
   ]
  },
  {
   "cell_type": "markdown",
   "metadata": {},
   "source": [
    "To convert our ```y``` we need an extra trick. Think about the dimensions of both ```x``` and ```y```. Is ```y``` following the same structure of ```number of points, dimensionality of the data```? "
   ]
  },
  {
   "cell_type": "code",
   "execution_count": 10,
   "metadata": {},
   "outputs": [
    {
     "data": {
      "text/plain": [
       "torch.Size([100])"
      ]
     },
     "execution_count": 10,
     "metadata": {},
     "output_type": "execute_result"
    }
   ],
   "source": [
    "y = torch.Tensor(y)\n",
    "y.shape"
   ]
  },
  {
   "cell_type": "markdown",
   "metadata": {},
   "source": [
    "An easy way to fix this is by doing the following:"
   ]
  },
  {
   "cell_type": "code",
   "execution_count": 11,
   "metadata": {},
   "outputs": [],
   "source": [
    "y = torch.Tensor(y).unsqueeze(1)"
   ]
  },
  {
   "cell_type": "markdown",
   "metadata": {},
   "source": [
    "Now that we actually have tensors, how to make sure of the two functions we import earlier?"
   ]
  },
  {
   "cell_type": "code",
   "execution_count": 12,
   "metadata": {},
   "outputs": [],
   "source": [
    "syn1_Pytorch = TensorDataset(x,y)"
   ]
  },
  {
   "cell_type": "code",
   "execution_count": 13,
   "metadata": {},
   "outputs": [
    {
     "data": {
      "text/plain": [
       "torch.utils.data.dataset.TensorDataset"
      ]
     },
     "execution_count": 13,
     "metadata": {},
     "output_type": "execute_result"
    }
   ],
   "source": [
    "type(syn1_Pytorch)"
   ]
  },
  {
   "cell_type": "markdown",
   "metadata": {},
   "source": [
    "```Pytorch``` has several predefined easy to use datasets subclasses. We are using the ```TensorDataset``` in this lab. "
   ]
  },
  {
   "cell_type": "markdown",
   "metadata": {},
   "source": [
    "After having our dataset we still need a ```DataLoader``` to be able to iterate throw the data. Remember, a ```Dataset``` is a class that manages the dataset being used, not a way to iterate over your dataset!"
   ]
  },
  {
   "cell_type": "code",
   "execution_count": 14,
   "metadata": {},
   "outputs": [],
   "source": [
    "loader = DataLoader(syn1_Pytorch, batch_size=2)"
   ]
  },
  {
   "cell_type": "markdown",
   "metadata": {},
   "source": [
    "# Question 1"
   ]
  },
  {
   "cell_type": "markdown",
   "metadata": {},
   "source": [
    "Why when we do a ```for loop ``` on the dataset we only get 50 elements? "
   ]
  },
  {
   "cell_type": "code",
   "execution_count": 15,
   "metadata": {},
   "outputs": [
    {
     "name": "stdout",
     "output_type": "stream",
     "text": [
      "0\n",
      "1\n",
      "2\n",
      "3\n",
      "4\n",
      "5\n",
      "6\n",
      "7\n",
      "8\n",
      "9\n",
      "10\n",
      "11\n",
      "12\n",
      "13\n",
      "14\n",
      "15\n",
      "16\n",
      "17\n",
      "18\n",
      "19\n",
      "20\n",
      "21\n",
      "22\n",
      "23\n",
      "24\n",
      "25\n",
      "26\n",
      "27\n",
      "28\n",
      "29\n",
      "30\n",
      "31\n",
      "32\n",
      "33\n",
      "34\n",
      "35\n",
      "36\n",
      "37\n",
      "38\n",
      "39\n",
      "40\n",
      "41\n",
      "42\n",
      "43\n",
      "44\n",
      "45\n",
      "46\n",
      "47\n",
      "48\n",
      "49\n"
     ]
    }
   ],
   "source": [
    "for batch_ndx, (xi,yi) in enumerate(loader):\n",
    "    print(batch_ndx)"
   ]
  },
  {
   "cell_type": "markdown",
   "metadata": {},
   "source": [
    "Given that we are want to perform binary classification, we need to import the ```BCELoss```"
   ]
  },
  {
   "cell_type": "code",
   "execution_count": 16,
   "metadata": {},
   "outputs": [],
   "source": [
    "from torch.nn import BCELoss"
   ]
  },
  {
   "cell_type": "markdown",
   "metadata": {},
   "source": [
    "We now need to import our optimizer. You can play with different ones. For a complete list check [here](https://pytorch.org/docs/stable/optim.html#algorithms)! We will be using Adam throughout the following examples, but again you are free to try with different ones. Just be sure to note that on your report!"
   ]
  },
  {
   "cell_type": "markdown",
   "metadata": {},
   "source": [
    "Pay attention that we do not instanciate the class as we just want a new placeholder named ```optimizer``` to make it easier if you decide to change it in the future!\n",
    "When creating an instance of ```Adam``` we need to already have an instance of our model to pass in the parameters!"
   ]
  },
  {
   "cell_type": "code",
   "execution_count": 17,
   "metadata": {},
   "outputs": [],
   "source": [
    "optimizer = torch.optim.Adam\n",
    "loss = BCELoss()"
   ]
  },
  {
   "cell_type": "markdown",
   "metadata": {},
   "source": [
    "Now lets try to put it all together to train our first Model!"
   ]
  },
  {
   "cell_type": "markdown",
   "metadata": {},
   "source": [
    "# Question 2"
   ]
  },
  {
   "cell_type": "markdown",
   "metadata": {},
   "source": [
    "Finish the below function. The task at this point is to create a function that is able to train your ```model``` for ```epoch_number``` using ```optimizer```, ```loss``` and ```dataloader```"
   ]
  },
  {
   "cell_type": "markdown",
   "metadata": {},
   "source": [
    "Remember what we said above? ```optimizer``` isn't instanciated. Do not forget to do so inside of your function!"
   ]
  },
  {
   "cell_type": "code",
   "execution_count": 18,
   "metadata": {},
   "outputs": [],
   "source": [
    "def train(epoch_number,optimizer,loss,model,dataloader):\n",
    "    #TODO\n",
    "    opt = optimizer(model.parameters())\n",
    "    for e in range(epoch_number):\n",
    "        for batch_idx, (xi,yi) in enumerate(dataloader):\n",
    "            opt.zero_grad()\n",
    "            pred = model(xi)\n",
    "            l = loss(pred,yi)\n",
    "            l.backward()\n",
    "            opt.step()\n",
    "            if (batch_idx % 10) == 0:\n",
    "                print(\"\\r[Batch {} of Epoch {}]\\t Loss:{}\".format(batch_idx,e,l),end='')\n",
    "    "
   ]
  },
  {
   "cell_type": "markdown",
   "metadata": {},
   "source": [
    "Now that we have a way to trian our model, we need to create an instance of the model and train it. We still need a way to evaluate our model. In this simple datasets, we can try to visualize the decision boundaries. \n",
    "\n",
    "We will create one ```helper function```: ```plot_decision_boundary```"
   ]
  },
  {
   "cell_type": "code",
   "execution_count": null,
   "metadata": {},
   "outputs": [],
   "source": [
    "import numpy as np\n",
    "import matplotlib.pyplot as plt\n",
    "from torch.autograd import Variable\n",
    "import torch\n",
    "\n",
    "def plot_decision_boundary(dataset, labels, model, steps=1000, color_map='Paired'):\n",
    "    color_map = plt.get_cmap(color_map)\n",
    "    \n",
    "    xmin, xmax = dataset[:, 0].min() - 1, dataset[:, 0].max() + 1\n",
    "    ymin, ymax = dataset[:, 1].min() - 1, dataset[:, 1].max() + 1\n",
    "    steps = 1000\n",
    "    x_span = np.linspace(xmin, xmax, steps)\n",
    "    y_span = np.linspace(ymin, ymax, steps)\n",
    "    xx, yy = np.meshgrid(x_span, y_span)\n",
    "\n",
    "    # Make predictions across region of interest\n",
    "    model.eval()\n",
    "    labels_predicted = model(Variable(torch.from_numpy(np.c_[xx.ravel(), yy.ravel()]).float()))\n",
    "\n",
    "    # Plot decision boundary in region of interest\n",
    "    labels_predicted = [0 if value <= 0.5 else 1 for value in labels_predicted.detach().numpy()]\n",
    "    z = np.array(labels_predicted).reshape(xx.shape)\n",
    "    \n",
    "    fig, ax = plt.subplots()\n",
    "    ax.contourf(xx, yy, z, cmap=color_map, alpha=0.5)\n",
    "\n",
    "    # Get predicted labels on training data and plot\n",
    "    train_labels_predicted = model(dataset)\n",
    "    ax.scatter(dataset[:, 0], dataset[:, 1], c=labels.reshape(labels.size()[0]), cmap=color_map, lw=0)\n",
    "    plt.show()\n",
    "    model.train()\n",
    "    return fig, ax"
   ]
  },
  {
   "cell_type": "markdown",
   "metadata": {},
   "source": [
    "## Question 3"
   ]
  },
  {
   "cell_type": "markdown",
   "metadata": {},
   "source": [
    "Now the only thing missing to visualize you results is a trained network. Assuming you named your network ```my_model```, this should show your decision boundary"
   ]
  },
  {
   "cell_type": "code",
   "execution_count": null,
   "metadata": {},
   "outputs": [],
   "source": [
    "my_model = #How to instanciate the Model?\n",
    "train(20,optimizer,loss,my_model,loader)"
   ]
  },
  {
   "cell_type": "code",
   "execution_count": null,
   "metadata": {},
   "outputs": [],
   "source": [
    "plot_decision_boundary(x,y,my_model)"
   ]
  },
  {
   "cell_type": "markdown",
   "metadata": {},
   "source": [
    "The above cell is giving you a ```qualitative``` way to inspect how good your network is. We also need to have a ```quantitative``` way of doing so. We are going to use another helper function to be able to do so."
   ]
  },
  {
   "cell_type": "code",
   "execution_count": null,
   "metadata": {},
   "outputs": [],
   "source": [
    "def stats_class(x, y, model):\n",
    "    \"\"\"\n",
    "\n",
    "    :param x:list: The data itself (Default value = None)\n",
    "    :param y:list: The groundtruth labels (Default value = None)\n",
    "    :param model:\"nn.Module\":  (Default value = None)\n",
    "    \n",
    "    input :\n",
    "             x = input\n",
    "             y = output\n",
    "             model = the model\n",
    "    \n",
    "    output :\n",
    "             sensitivity = fraction of correctly classified positive cases\n",
    "             specificity = fraction of correctly classified negative cases\n",
    "             accuracy = fraction of correctly classified cases\n",
    "             \n",
    "    \"\"\"\n",
    "\n",
    "    model.eval()\n",
    "    y_pr = model.predict(x).numpy().reshape(y.shape)\n",
    "\n",
    "    y = y.numpy()\n",
    "   \n",
    "    nof_p, tp, nof_n, tn = [np.count_nonzero(k) for k in [y==1, y_pr[y==1.] > 0.5, y==0, y_pr[y==0.]<= 0.5]]\n",
    "    \n",
    "    if nof_p == 0:\n",
    "        raise ValueError(\"No False Positive cant be zero\")\n",
    "    \n",
    "    if nof_n == 0:\n",
    "        raise ValueError(\"No False Negative cant be zero\")\n",
    "        \n",
    "    sens = tp / nof_p \n",
    "    spec = tn / nof_n\n",
    "    acc = (tp + tn) / (len(y))\n",
    "                \n",
    "    A = ['Accuracy', 'Sensitivity', 'Specificity']\n",
    "    B = [acc, sens, spec]#, loss]\n",
    "    \n",
    "    print('\\n','#'*20,'STATISTICS', '#'*20, '\\n')\n",
    "    for r in zip(A,B):\n",
    "         print(*r, sep = '   ')\n",
    "    print('\\n','#'*50)"
   ]
  },
  {
   "cell_type": "code",
   "execution_count": null,
   "metadata": {},
   "outputs": [],
   "source": [
    "stats_class(x,y,my_model)"
   ]
  },
  {
   "cell_type": "markdown",
   "metadata": {},
   "source": [
    "# Question 4"
   ]
  },
  {
   "cell_type": "markdown",
   "metadata": {},
   "source": [
    "Now that we have everything needed to train, we need to generate more data!\n",
    "\n",
    "A proper training procedure is divided into ```3 splits```: training, validation and test!\n",
    "\n",
    "Please create each of the splits with 200 (training), 100 (validation) and 1000 (test) for each of the three synthetic dataset ```syn1, syn2, syn3```."
   ]
  },
  {
   "cell_type": "markdown",
   "metadata": {},
   "source": [
    "# Question 5\n",
    "\n",
    "For the ```syn1``` what is the theoretical minimum number of hidden nodes to have a good classifier? Can you train a model with said number of hidden nodes? How many epochs to get a perfect score? When you compare the statistics with the other two splits, how much does it change? And why do you think that happens? Be sure to use all available statistical information about the performance (i.e. Accuracy, Sensitivity and Specificity on your answer)"
   ]
  },
  {
   "cell_type": "markdown",
   "metadata": {},
   "source": [
    "# Question 6"
   ]
  },
  {
   "cell_type": "markdown",
   "metadata": {},
   "source": [
    "If you use the same architecture you found for the question above on ```syn2``` what are the statistics? And how does the decinsion boundary looks like? Did you expect it to perform similar, better or worse? And why?\n",
    "Do not forget we need both a ```Dataset``` object and a ```Dataloader``` like we did for ```syn1``` in the previous examples!"
   ]
  },
  {
   "cell_type": "markdown",
   "metadata": {},
   "source": [
    "# Question 7 \n",
    "\n",
    "Feel free to adapt the number of hidden nodes (and possibly the number of hidden layers and epochs) required to achieve an accuracy of > 95%!"
   ]
  },
  {
   "cell_type": "markdown",
   "metadata": {},
   "source": [
    "# Question 7.1\n",
    "Compare your results with the validation and test set. Does the accuracy you got for the training set stays the same on the validation/test set? Analyse the results!"
   ]
  },
  {
   "cell_type": "markdown",
   "metadata": {},
   "source": [
    "# Question 8\n",
    "\n",
    "\n",
    "Now lets move to ```syn3```. If you use the same architecture you found what are the results in the three splits? Is the model performing better or worse? Why?"
   ]
  },
  {
   "cell_type": "markdown",
   "metadata": {},
   "source": [
    "# Question 9\n",
    "\n",
    "Try to find a reasonable model for ```syn3```. When analysing the results on the three splits keep [this](https://en.wikipedia.org/wiki/Overfitting) in mind!"
   ]
  },
  {
   "cell_type": "markdown",
   "metadata": {},
   "source": [
    "<center><h1 style=\"font-size:40px;\">Regression</h1></center>"
   ]
  },
  {
   "cell_type": "markdown",
   "metadata": {},
   "source": [
    "\n",
    "# regr1\n",
    "There is also a synthetic regression problem, called *regr1*. It has 6 inputs (independent variables) and one output variable (dependent variable). It is generated according to the following formula:  \n",
    "\n",
    "$\\qquad d = 10x_1 + sin(20 \\pi x_2)+ \\alpha\\epsilon$  \n",
    "    \n",
    "where $\\epsilon$ is added normally distributed noise and $\\alpha$ is a parameter controlling the size of the added noise. Variable $x_1$ is normally distrubuted with zero mean and unit variance, whereas $x_2$ are uniformly distributed ($[0,1]$). The target value $d$ has a non-linear dependence on ***x***."
   ]
  },
  {
   "cell_type": "markdown",
   "metadata": {},
   "source": [
    "# Question 10"
   ]
  },
  {
   "cell_type": "markdown",
   "metadata": {},
   "source": [
    "Before we are able to continue, we need to think about what we are asking our network to perform: predicting continue values. Lets first try train a simple Neural Network without normalizing out ```y``` and then the same network but with our ```y``` normalized. What differences do you see? Why?\n",
    "You can use ```plot_decision_boundary``` and ```stats_reg``` to help you visualize your results.\n",
    "\n",
    "Explain the difference between ```MSE``` and ```pearson coefficient ```.\n",
    "\n",
    "Again do not forget to create your own ```Dataset``` and ```Dataloader``` for the dataset ```regr1``` without noise for this task also as adapting anything that you have coded before that might be useful for this and the following questions."
   ]
  },
  {
   "cell_type": "code",
   "execution_count": null,
   "metadata": {},
   "outputs": [],
   "source": [
    "def plot_decision_boundary(dataset,y, model, steps=50):\n",
    "    \n",
    "    xmin, xmax = dataset[:, 0].min(), dataset[:, 0].max()\n",
    "    ymin, ymax = dataset[:, 1].min() , dataset[:, 1].max()\n",
    "    x_span = np.linspace(xmin, xmax, steps)\n",
    "    y_span = np.linspace(ymin, ymax, steps)\n",
    "    xx_pred, yy_pred = np.meshgrid(x_span, y_span)\n",
    "    model_viz = np.array([xx_pred.flatten(), yy_pred.flatten()]).T\n",
    "\n",
    "    # Make predictions across region of interest\n",
    "    model.eval()\n",
    "    labels_predicted = model(Variable(torch.Tensor(model_viz)).float())\n",
    "\n",
    "    labels_predicted = labels_predicted.detach().numpy()\n",
    "\n",
    "    fig = plt.figure()\n",
    "    ax = fig.add_subplot(projection='3d')\n",
    "    ax.scatter(dataset[:,0], dataset[:,1], y)\n",
    "    ax.scatter(xx_pred.flatten(), yy_pred.flatten(), labels_predicted, facecolor=(0,0,0,0), s=20, edgecolor='#70b3f0')\n",
    "    ax.view_init(elev=28, azim=120)\n",
    "    plt.show()\n",
    "    model.train()\n",
    "    return fig, ax"
   ]
  },
  {
   "cell_type": "code",
   "execution_count": null,
   "metadata": {},
   "outputs": [],
   "source": [
    "def stats_reg(x,y, model):\n",
    "    \"\"\"\n",
    "    Returns the MSE and CorrCoef for a given dataset and y\n",
    "    \"\"\"\n",
    "    \n",
    "    A = ['MSE', 'CorrCoeff']\n",
    "    model.eval()\n",
    "    preds = model(x)\n",
    "    pcorr = np.corrcoef(y.flatten(), preds.detach().numpy().flatten())\n",
    "    mse = torch.nn.MSELoss()(preds,y)\n",
    "\n",
    "    B = [mse.item(), pcorr]\n",
    "    \n",
    "    print(f\"\\n {'#'*20} STATISTICS{'#'*20}\\n\")\n",
    "    for r in zip(A,B):\n",
    "         print(*r, sep = '   ')\n",
    "    return print(f\"\\n {'#'*50}\")"
   ]
  },
  {
   "cell_type": "markdown",
   "metadata": {},
   "source": [
    "# Question 11\n",
    "When you have found a model that perfoms well for ```Question 10```, try again with ```noise=0.4```\n"
   ]
  },
  {
   "cell_type": "markdown",
   "metadata": {},
   "source": [
    "# Question 12\n",
    "\n",
    "Can you overfit on the train split? Why? "
   ]
  },
  {
   "cell_type": "markdown",
   "metadata": {},
   "source": [
    "# Question 13\n",
    "\n",
    "What is the best performing model you can create?"
   ]
  }
 ],
 "metadata": {
  "kernelspec": {
   "display_name": "labs_new",
   "language": "python",
   "name": "labs_new"
  },
  "language_info": {
   "codemirror_mode": {
    "name": "ipython",
    "version": 3
   },
   "file_extension": ".py",
   "mimetype": "text/x-python",
   "name": "python",
   "nbconvert_exporter": "python",
   "pygments_lexer": "ipython3",
   "version": "3.10.6"
  }
 },
 "nbformat": 4,
 "nbformat_minor": 4
}
