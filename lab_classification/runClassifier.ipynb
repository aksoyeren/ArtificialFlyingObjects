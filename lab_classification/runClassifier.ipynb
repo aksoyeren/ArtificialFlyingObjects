{
 "cells": [
  {
   "cell_type": "markdown",
   "metadata": {},
   "source": [
    "<h1 style=\"font-size:40px;\"><center>Exercise II:<br> Convolutional Neural Networks\n",
    "</center></h1>\n",
    "\n",
    "## Short summary\n",
    "In this exercise, we will design a CNN to classify rgb images. These folder has **three files**: \n",
    "- **configClassifier.py:** this involves definitions of all parameters and data paths\n",
    "- **utilsClassifier.py:** includes utility functions required to grab and visualize data \n",
    "- **runClassifier.ipynb:** contains the script to design, train and test the network \n",
    "\n",
    "Make sure that before running this script, you created an environment and **installed all required libraries** such \n",
    "as keras.\n",
    "\n",
    "## The data\n",
    "There exists also a subfolder called **data** which contains the traning, validation, and testing data each has both RGB input images together with the corresponding ground truth images.\n",
    "\n",
    "\n",
    "## The exercises\n",
    "As for the previous lab all exercises are found below.\n",
    "\n",
    "\n",
    "## The different 'Cells'\n",
    "This notebook contains several cells with python code, together with the markdown cells (like this one) with only text. Each of the cells with python code has a \"header\" markdown cell with information about the code. The table below provides a short overview of the code cells. \n",
    "\n",
    "| #  |  CellName | CellType | Comment |\n",
    "| :--- | :-------- | :-------- | :------- |\n",
    "| 1 | Init | Needed | Sets up the environment|\n",
    "| 2 | Ex | Exercise 1| A class definition of a CNN model  |\n",
    "| 3 | Loading | Needed | Loading parameters and initializing the model |\n",
    "| 4 | Stats | Needed | Show data distribution |\n",
    "| 5 | Ex | Exercise 2 | Data augementation |\n",
    "| 6 | Data | Needed | Generating the data batches |\n",
    "| 7 | Debug | Needed | Debugging the data |\n",
    "| 8 | Device | Needed | Selecting CPU/GPU |\n",
    "| 9 | Optimization | Exercise 2 | Selecting an optimization method |\n",
    "| 10 | Training | Exercise 1-2-3 | Training the model   |\n",
    "| 11 | Testing | Exercise 1-2-3| Testing the  method   |\n",
    "| 12 | Confusion matrix | Information | Plotting the confusion matrix|\n",
    "| 13 | Plotting | Information  | View some of test samples |\n",
    "| 13 | Plotting | Information  | View layer activations|\n",
    "\n",
    "\n",
    "In order for you to start with the exercise you need to run all cells. It is important that you do this in the correct order, starting from the top and work you way down the cells. Later when you have started to work with the notebook it may be easier to use the command \"Run All\" found in the \"Cell\" dropdown menu.\n",
    "\n",
    "## Writing the report\n",
    "First the report should be written within this notebook. We have prepared the last cell in this notebook for you where you should write the report. The report should contain 4 parts:\n",
    "\n",
    "* Name:\n",
    "* Introduction: A **few** sentences where you give a small introduction of what you have done in the lab.\n",
    "* Answers to questions: For each of the questions provide an answer. It can be short answers or a longer ones depending on the nature of the questions, but try to be effective in your writing.\n",
    "* Conclusion: Summarize your findings in a few sentences.\n",
    "  "
   ]
  },
  {
   "cell_type": "markdown",
   "metadata": {},
   "source": [
    "1) We first start with importing all required modules"
   ]
  },
  {
   "cell_type": "code",
   "execution_count": 1,
   "metadata": {},
   "outputs": [
    {
     "name": "stdout",
     "output_type": "stream",
     "text": [
      "creating network model using gpu 1\n"
     ]
    }
   ],
   "source": [
    "import os\n",
    "from configClassifier import *\n",
    "from utilsClassifier import *\n",
    "cfg = flying_objects_config()\n",
    "if cfg.GPU >=0:\n",
    "    print(\"creating network model using gpu \" + str(cfg.GPU))\n",
    "    os.environ['CUDA_VISIBLE_DEVICES'] = str(cfg.GPU)\n",
    "elif cfg.GPU >=-1:\n",
    "    print(\"creating network model using cpu \")  \n",
    "    os.environ[\"CUDA_DEVICE_ORDER\"] = \"PCI_BUS_ID\"   # see issue #152\n",
    "    os.environ[\"CUDA_VISIBLE_DEVICES\"] = \"\"\n",
    "\n",
    "from tensorflow.compat.v1 import ConfigProto\n",
    "from tensorflow.compat.v1 import InteractiveSession\n",
    "\n",
    "config = ConfigProto()\n",
    "config.gpu_options.allow_growth = True\n",
    "session = InteractiveSession(config=config)\n",
    "\n",
    "import tensorflow as tf\n",
    "from tensorflow import keras \n",
    "from sklearn.metrics import confusion_matrix\n",
    "import seaborn as sns\n",
    "from datetime import datetime\n",
    "\n",
    "import pprint\n",
    "\n",
    "# import the necessary packages\n",
    "from keras.models import Sequential\n",
    "from keras.layers.normalization import BatchNormalization\n",
    "from keras.layers.convolutional import Conv2D\n",
    "from keras.layers.convolutional import MaxPooling2D\n",
    "from keras.layers.core import Activation\n",
    "from keras.layers.core import Flatten\n",
    "from keras.layers.core import Dropout\n",
    "from keras.layers.core import Dense\n",
    "from keras.preprocessing.image import ImageDataGenerator\n",
    "from keras.optimizers import Adam\n",
    "from keras.models import Model\n",
    "from keras.callbacks import TensorBoard\n"
   ]
  },
  {
   "cell_type": "markdown",
   "metadata": {},
   "source": [
    "2) Here, we have the network model class definition. In this class, the most important function is the one called **create_model()**. As defined in the exercises section, your task is to update the network architecture defined in this function such that the network will return the highest accuracy for the given training, validation, and testing data."
   ]
  },
  {
   "cell_type": "code",
   "execution_count": 2,
   "metadata": {},
   "outputs": [],
   "source": [
    "class ClassifierDNNModel():\n",
    "    def __init__(self, num_classes=10, batch_size=32, inputShape=(64,64,3), dropout_prob=0.25):\n",
    "        # super(MyModel, self).__init__(name='my_model')\n",
    "        self.num_classes = num_classes\n",
    "        self.batch_size = batch_size\n",
    "        self.inputShape = inputShape\n",
    "        self.dropout_prob = dropout_prob\n",
    "\n",
    "    def create_model(self):\n",
    "        model = Sequential()\n",
    "\n",
    "        chanDim = -1\n",
    "        # CONV => RELU => POOL\n",
    "        model.add(Conv2D(25, (3, 3), padding=\"same\",\n",
    "                         input_shape=self.inputShape))\n",
    "        model.add(Activation(\"relu\"))\n",
    "        model.add(MaxPooling2D(pool_size=(3, 3)))\n",
    "\n",
    "        # (CONV => RELU) * 2 => POOL\n",
    "        model.add(Conv2D(50, (3, 3), padding=\"same\"))\n",
    "        model.add(Activation(\"relu\"))\n",
    "        model.add(MaxPooling2D(pool_size=(2, 2)))\n",
    "\n",
    "        # first (and only) set of FC => RELU layers\n",
    "        model.add(Flatten())\n",
    "        model.add(Dense(2048))\n",
    "        model.add(Activation(\"relu\"))\n",
    "\n",
    "        # softmax classifier\n",
    "        model.add(Dense(self.num_classes))\n",
    "        model.add(Activation(\"softmax\"))\n",
    "\n",
    "        # return the constructed network architecture\n",
    "        return model\n",
    "\n",
    "    def display_activation(self, activations, col_size, row_size, act_index):\n",
    "        activation = activations[act_index]\n",
    "        activation_index = 0\n",
    "        fig, ax = plt.subplots(row_size, col_size, figsize=(row_size * 2.5, col_size * 1.5))\n",
    "        fig.suptitle(\"activations in layer \" + str(act_index+1))\n",
    "\n",
    "        for row in range(0, row_size):\n",
    "            for col in range(0, col_size):\n",
    "                ax[row][col].imshow(activation[0, :, :, activation_index], cmap='gray')\n",
    "                activation_index += 1\n",
    "        plt.show()"
   ]
  },
  {
   "cell_type": "markdown",
   "metadata": {},
   "source": [
    "3) We import the network **hyperparameters** and build a simple cnn by calling the class introduced in the previous step. Please note that to change the hyperparameters, you just need to change the values in the file called **configClassifier.py.**"
   ]
  },
  {
   "cell_type": "code",
   "execution_count": 3,
   "metadata": {},
   "outputs": [
    {
     "name": "stdout",
     "output_type": "stream",
     "text": [
      "{'training_data_dir': '../data/FlyingObjectDataset_10K/training', 'validation_data_dir': '../data/FlyingObjectDataset_10K/validation', 'testing_data_dir': '../data/FlyingObjectDataset_10K/testing', 'fineGrained': False, 'CLASSES': ['square', 'triangle', 'circular'], 'NUM_CLASS': 3, 'GPU': 1, 'DROPOUT_PROB': 0.5, 'IMAGE_WIDTH': 128, 'IMAGE_HEIGHT': 128, 'IMAGE_CHANNEL': 3, 'NUM_EPOCHS': 10, 'BATCH_SIZE': 32, 'LEARNING_RATE': 0.001, 'LR_DECAY_FACTOR': 0.1, 'PRINT_EVERY': 20, 'SAVE_EVERY': 1, 'DEBUG_MODE': True, 'DATA_AUGMENTATION': True}\n"
     ]
    }
   ],
   "source": [
    "image_shape = (cfg.IMAGE_HEIGHT, cfg.IMAGE_WIDTH, cfg.IMAGE_CHANNEL)\n",
    "modelObj = ClassifierDNNModel(num_classes=len(cfg.CLASSES), batch_size=cfg.BATCH_SIZE, inputShape=image_shape, dropout_prob=cfg.DROPOUT_PROB)\n",
    "model = modelObj.create_model()\n",
    "print(cfg)"
   ]
  },
  {
   "cell_type": "markdown",
   "metadata": {},
   "source": [
    "4) We call the utility function **show_statistics** to display the data distribution. This is just for debugging purpose."
   ]
  },
  {
   "cell_type": "code",
   "execution_count": 4,
   "metadata": {},
   "outputs": [
    {
     "name": "stdout",
     "output_type": "stream",
     "text": [
      "\n",
      "######################################################################\n",
      "##################### Training Data Statistics #####################\n",
      "######################################################################\n",
      "total image number \t 10817\n",
      "total class number \t 3\n",
      "class square \t 3488 images\n",
      "class circular \t 3626 images\n",
      "class triangle \t 3703 images\n",
      "######################################################################\n",
      "\n",
      "######################################################################\n",
      "##################### Validation Data Statistics #####################\n",
      "######################################################################\n",
      "total image number \t 2241\n",
      "total class number \t 3\n",
      "class triangle \t 745 images\n",
      "class square \t 783 images\n",
      "class circular \t 713 images\n",
      "######################################################################\n",
      "\n",
      "######################################################################\n",
      "##################### Testing Data Statistics #####################\n",
      "######################################################################\n",
      "total image number \t 2220\n",
      "total class number \t 3\n",
      "class triangle \t 733 images\n",
      "class square \t 765 images\n",
      "class circular \t 722 images\n",
      "######################################################################\n"
     ]
    }
   ],
   "source": [
    "#### show how the data looks like\n",
    "show_statistics(cfg.training_data_dir, fineGrained=cfg.fineGrained, title=\" Training Data Statistics \")\n",
    "show_statistics(cfg.validation_data_dir, fineGrained=cfg.fineGrained, title=\" Validation Data Statistics \")\n",
    "show_statistics(cfg.testing_data_dir, fineGrained=cfg.fineGrained, title=\" Testing Data Statistics \")"
   ]
  },
  {
   "cell_type": "markdown",
   "metadata": {},
   "source": [
    "5) We **augment** the data by flipping the image horizontally or vertically. As described in the exercises section below, one of your tasks is to update this data augmentation part in order to increase the network efficiency."
   ]
  },
  {
   "cell_type": "code",
   "execution_count": 5,
   "metadata": {},
   "outputs": [
    {
     "name": "stdout",
     "output_type": "stream",
     "text": [
      "Data is being augmented!\n"
     ]
    }
   ],
   "source": [
    "# setup data\n",
    "if cfg.DATA_AUGMENTATION:\n",
    "    print(\"Data is being augmented!\")\n",
    "    aug_parameters = ImageDataGenerator(\n",
    "        # zoom_range=0.2, # randomly zoom into images\n",
    "        # rotation_range=10,  # randomly rotate images in the range (degrees, 0 to 180)\n",
    "        # width_shift_range=0.1,  # randomly shift images horizontally (fraction of total width)\n",
    "        # height_shift_range=0.1,  # randomly shift images vertically (fraction of total height)\n",
    "        horizontal_flip=True,  # randomly flip images\n",
    "        vertical_flip=True)  # randomly flip images\n",
    "else:\n",
    "    print(\"Data will not be augmented!\")\n",
    "    aug_parameters = ImageDataGenerator(\n",
    "        horizontal_flip=False,  # randomly flip images\n",
    "        vertical_flip=False)  # randomly flip images\n"
   ]
  },
  {
   "cell_type": "markdown",
   "metadata": {},
   "source": [
    "6) We now create batch generators to get small batches from the entire dataset. There is no need to change these functions as they already return **normalized inputs as batches**."
   ]
  },
  {
   "cell_type": "code",
   "execution_count": 6,
   "metadata": {},
   "outputs": [
    {
     "name": "stdout",
     "output_type": "stream",
     "text": [
      "Data batch generators are created!\n"
     ]
    }
   ],
   "source": [
    "nbr_train_data = get_dataset_size(cfg.training_data_dir)\n",
    "nbr_valid_data = get_dataset_size(cfg.validation_data_dir)\n",
    "nbr_test_data = get_dataset_size(cfg.testing_data_dir)\n",
    "train_batch_generator = generate_classification_batches(cfg.training_data_dir, image_shape, cfg.BATCH_SIZE, cfg.CLASSES, fineGrained=cfg.fineGrained)\n",
    "valid_batch_generator = generate_classification_batches(cfg.validation_data_dir, image_shape, cfg.BATCH_SIZE, cfg.CLASSES, fineGrained=cfg.fineGrained)\n",
    "test_batch_generator = generate_classification_batches(cfg.testing_data_dir, image_shape, cfg.BATCH_SIZE, cfg.CLASSES, fineGrained=cfg.fineGrained)\n",
    "aug_train_batch_generator = generate_augmented_classification_batches(train_batch_generator, aug_parameters)\n",
    "aug_valid_batch_generator = generate_augmented_classification_batches(valid_batch_generator, aug_parameters)\n",
    "print(\"Data batch generators are created!\")"
   ]
  },
  {
   "cell_type": "markdown",
   "metadata": {},
   "source": [
    "7) We can visualize how the data looks like for debugging purpose"
   ]
  },
  {
   "cell_type": "code",
   "execution_count": 7,
   "metadata": {},
   "outputs": [
    {
     "name": "stdout",
     "output_type": "stream",
     "text": [
      "x (32, 128, 128, 3) float64 0.0 1.0\n",
      "y (32, 3) float32 0.0 1.0\n",
      "x (32, 128, 128, 3) float32 0.0 1.0\n",
      "y (32, 3) float32 0.0 1.0\n"
     ]
    }
   ],
   "source": [
    "if cfg.DEBUG_MODE:\n",
    "    t_x, t_y = next(train_batch_generator)\n",
    "    print('x', t_x.shape, t_x.dtype, t_x.min(), t_x.max())\n",
    "    print('y', t_y.shape, t_y.dtype, t_y.min(), t_y.max())\n",
    "    a_x, a_y = next(aug_train_batch_generator)\n",
    "    print('x', a_x.shape, a_x.dtype, a_x.min(), a_x.max())\n",
    "    print('y', a_y.shape, a_y.dtype, a_y.min(), a_y.max())"
   ]
  },
  {
   "cell_type": "markdown",
   "metadata": {},
   "source": [
    "8) We select which processing unit to use, either CPU or GPU. In case of having multiple GPUs, we can still select which GPU to use."
   ]
  },
  {
   "cell_type": "code",
   "execution_count": null,
   "metadata": {},
   "outputs": [],
   "source": []
  },
  {
   "cell_type": "markdown",
   "metadata": {},
   "source": [
    "9) We set the training configuration. As a part of the exercises, this function can also be updated to test different **optimization methods** such as **SGD, ADAM,** etc."
   ]
  },
  {
   "cell_type": "code",
   "execution_count": 8,
   "metadata": {},
   "outputs": [
    {
     "name": "stdout",
     "output_type": "stream",
     "text": [
      "Model: \"sequential\"\n",
      "_________________________________________________________________\n",
      "Layer (type)                 Output Shape              Param #   \n",
      "=================================================================\n",
      "conv2d (Conv2D)              (None, 128, 128, 25)      700       \n",
      "_________________________________________________________________\n",
      "activation (Activation)      (None, 128, 128, 25)      0         \n",
      "_________________________________________________________________\n",
      "max_pooling2d (MaxPooling2D) (None, 42, 42, 25)        0         \n",
      "_________________________________________________________________\n",
      "conv2d_1 (Conv2D)            (None, 42, 42, 50)        11300     \n",
      "_________________________________________________________________\n",
      "activation_1 (Activation)    (None, 42, 42, 50)        0         \n",
      "_________________________________________________________________\n",
      "max_pooling2d_1 (MaxPooling2 (None, 21, 21, 50)        0         \n",
      "_________________________________________________________________\n",
      "flatten (Flatten)            (None, 22050)             0         \n",
      "_________________________________________________________________\n",
      "dense (Dense)                (None, 2048)              45160448  \n",
      "_________________________________________________________________\n",
      "activation_2 (Activation)    (None, 2048)              0         \n",
      "_________________________________________________________________\n",
      "dense_1 (Dense)              (None, 3)                 6147      \n",
      "_________________________________________________________________\n",
      "activation_3 (Activation)    (None, 3)                 0         \n",
      "=================================================================\n",
      "Total params: 45,178,595\n",
      "Trainable params: 45,178,595\n",
      "Non-trainable params: 0\n",
      "_________________________________________________________________\n"
     ]
    }
   ],
   "source": [
    "opt = tf.optimizers.Adam(cfg.LEARNING_RATE)\n",
    "model.compile(loss=keras.losses.categorical_crossentropy,\n",
    "              optimizer= opt, metrics=['accuracy'])\n",
    "model.summary()"
   ]
  },
  {
   "cell_type": "markdown",
   "metadata": {},
   "source": [
    "10) We can now feed the training and validation data to the network. This will train the network for **some epochs**. Note that the epoch number is also predefined in the file called **configClassifier.py.**"
   ]
  },
  {
   "cell_type": "code",
   "execution_count": null,
   "metadata": {},
   "outputs": [
    {
     "name": "stdout",
     "output_type": "stream",
     "text": [
      "Epoch 1/10\n",
      "338/338 [==============================] - 62s 185ms/step - loss: 0.6969 - accuracy: 0.7634 - val_loss: 2.0068 - val_accuracy: 0.4174\n",
      "Epoch 2/10\n",
      "338/338 [==============================] - 48s 142ms/step - loss: 0.0157 - accuracy: 0.9967 - val_loss: 2.3916 - val_accuracy: 0.4589\n",
      "Epoch 3/10\n",
      "103/338 [========>.....................] - ETA: 24s - loss: 0.0121 - accuracy: 0.9970"
     ]
    }
   ],
   "source": [
    "history = model.fit(aug_train_batch_generator,\n",
    "          epochs=cfg.NUM_EPOCHS,\n",
    "          verbose=1,\n",
    "          steps_per_epoch=(nbr_train_data//cfg.BATCH_SIZE), # total batch number\n",
    "          validation_steps=(nbr_valid_data // cfg.BATCH_SIZE), # total batch number\n",
    "          validation_data=aug_valid_batch_generator,\n",
    "          callbacks=[TensorBoard(log_dir=\"logs/{}\".format(datetime.now().strftime(\"%Y%m%d-%H%M%S\")), write_graph=True, write_images=False,\n",
    "                                 histogram_freq=0)])\n"
   ]
  },
  {
   "cell_type": "markdown",
   "metadata": {},
   "source": [
    "11) We can test the model with the test data"
   ]
  },
  {
   "cell_type": "code",
   "execution_count": null,
   "metadata": {},
   "outputs": [],
   "source": [
    "# testing model\n",
    "test_result = model.evaluate(test_batch_generator,\n",
    "                                       steps=(nbr_test_data//cfg.BATCH_SIZE))\n",
    "test_loss = round(test_result[0], 4)\n",
    "test_acc = round(test_result[1], 4)\n",
    "print(\"Test Loss: \", str(test_loss), \"Test Accuracy: \", str(test_acc))"
   ]
  },
  {
   "cell_type": "markdown",
   "metadata": {},
   "source": [
    "12) We can plot a confusion matrix showing **the class-wise accuracies**"
   ]
  },
  {
   "cell_type": "code",
   "execution_count": null,
   "metadata": {},
   "outputs": [],
   "source": [
    "true_classes = []\n",
    "pred_classes = []\n",
    "for i in range(0, nbr_test_data//cfg.BATCH_SIZE +1):\n",
    "    t_data, t_label = next(test_batch_generator)\n",
    "    pred_labels = model.predict(t_data, batch_size=cfg.BATCH_SIZE)\n",
    "    pred_classes.extend(np.argmax(pred_labels, axis=1))\n",
    "    true_classes.extend(np.argmax(t_label, axis=1))\n",
    "#print (\" true classes: \" + str(len(true_classes))  + \" pred classes: \" + str(len(pred_classes)))\n",
    "confusion_mtx = confusion_matrix(np.array(true_classes), np.array(pred_classes))\n",
    "plt.figure(figsize=(10, 8))\n",
    "plt.title(\"normalized confusion matrix\")\n",
    "norm_confusion_mtx = 100* confusion_mtx.astype('float') / confusion_mtx.sum(axis=1)[:, np.newaxis]\n",
    "sns.heatmap(norm_confusion_mtx, annot=True, fmt=\"f\")\n",
    "plt.show()"
   ]
  },
  {
   "cell_type": "markdown",
   "metadata": {},
   "source": [
    "13) We can also show sample classification results"
   ]
  },
  {
   "cell_type": "code",
   "execution_count": null,
   "metadata": {},
   "outputs": [],
   "source": [
    "t_data, t_label = next(test_batch_generator)\n",
    "print(t_data[0].shape)\n",
    "plt.imshow(t_data[0])\n",
    "pred_labels = model.predict(t_data, batch_size=cfg.BATCH_SIZE)\n",
    "plot_sample_classification_results(t_data, t_label, cfg.CLASSES, pred_labels, test_acc)"
   ]
  },
  {
   "cell_type": "markdown",
   "metadata": {},
   "source": [
    "14) Finally, we can visualize CNN layer activations for a given sample input "
   ]
  },
  {
   "cell_type": "code",
   "execution_count": null,
   "metadata": {},
   "outputs": [],
   "source": [
    "# Visualize CNN Layers\n",
    "t_data, t_label = next(test_batch_generator)\n",
    "layer_outputs = [layer.output for layer in model.layers]\n",
    "activation_model = Model(inputs=model.input, outputs=layer_outputs)\n",
    "activations = activation_model.predict(t_data[10].reshape(1, cfg.IMAGE_HEIGHT, cfg.IMAGE_WIDTH, cfg.IMAGE_CHANNEL))\n",
    "\n",
    "plt.imshow(t_data[10])\n",
    "plt.title(\"sample input for the activation test\")\n",
    "modelObj.display_activation(activations, 4, 4, 1) # Displaying output of layer 2\n",
    "modelObj.display_activation(activations, 4, 4, 3) # Displaying output of layer 4\n",
    "modelObj.display_activation(activations, 4, 4, 4) # Displaying output of layer 5"
   ]
  },
  {
   "cell_type": "markdown",
   "metadata": {},
   "source": [
    "## EXERCISES"
   ]
  },
  {
   "cell_type": "markdown",
   "metadata": {},
   "source": [
    "Please do all exercises desribed below. Note that all your source code as well as the log folders must be provided as final results **before April 05, 2019.** \n",
    "\n",
    "\n",
    "#### Exercise 1)\n",
    "Update the network architecture given in the function **create_model** of the class ClassifierDNNModel. \n",
    "\n",
    "**Hint:** You can add more convolution, max pooling layers etc. Batch normalization and dropout are other options to be considered. You can also try applying different activation functions."
   ]
  },
  {
   "cell_type": "markdown",
   "metadata": {},
   "source": [
    "#### Exercise 2) \n",
    "Use different **optimization** (e.g. ADAM, SGD, etc) and **regularization** (e.g. data augmentation, dropout) methods to increase the network accuracy. "
   ]
  },
  {
   "cell_type": "markdown",
   "metadata": {},
   "source": [
    "#### Exercise 3)\n",
    "In the file **configClassifier.py**, there is a flag named as **cfg.fineGrained** which is set to **False**. This flag defines the classification granularity level. In the default setting, i.e. when it is **False**, there exist 3 class types: **Square**, **Triangle**, and **Circle**. In case of switching this flag to **True**, the class number goes to 15. Repeat previous exercises 1) and 2) after setting this flag to **True** and provide results. "
   ]
  },
  {
   "cell_type": "markdown",
   "metadata": {},
   "source": [
    "#### Hint:\n",
    "All network resposes are stored in a **log folder** which is automatically created. To visualize these responses, we can use the tensorboard as follows:\n",
    "- First make sure that there is a new folder created with **a date and time stamp** under folder **logs**\n",
    "- Next, open a terminal and type \n",
    "    > tensorboard --logdir=./logs\n",
    "- Finally, open a web browser and type \n",
    "    > http://localhost:6006\n",
    "- You can have an overview of all accuracies on the tensorboard. For more information about tensorboard, please see https://www.tensorflow.org/guide/summaries_and_tensorboard"
   ]
  },
  {
   "cell_type": "markdown",
   "metadata": {},
   "source": [
    "# The report!\n",
    "\n",
    "\n",
    "### Name\n",
    "\n",
    "### Introduction\n",
    "\n",
    "### Answers to questions\n",
    "\n",
    "### Summary"
   ]
  }
 ],
 "metadata": {
  "kernelspec": {
   "display_name": "Python 3",
   "language": "python",
   "name": "python3"
  },
  "language_info": {
   "codemirror_mode": {
    "name": "ipython",
    "version": 3
   },
   "file_extension": ".py",
   "mimetype": "text/x-python",
   "name": "python",
   "nbconvert_exporter": "python",
   "pygments_lexer": "ipython3",
   "version": "3.8.5"
  }
 },
 "nbformat": 4,
 "nbformat_minor": 4
}
